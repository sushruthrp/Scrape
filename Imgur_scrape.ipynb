{
 "cells": [
  {
   "cell_type": "code",
   "execution_count": 96,
   "metadata": {},
   "outputs": [
    {
     "name": "stdout",
     "output_type": "stream",
     "text": [
      "<img alt=\"7da1b5ebcca27699a04c929187a9b9d3\" class=\"lazyload thumbnail wp-post-image\" data-sizes=\"(max-width: 1024px) 100vw, 1024px\" data-src=\"https://spotlight.it-notes.ru/wp-content/uploads/2019/11/7da1b5ebcca27699a04c929187a9b9d3-1024x576.jpg\" data-srcset=\"https://spotlight.it-notes.ru/wp-content/uploads/2019/11/7da1b5ebcca27699a04c929187a9b9d3-1024x576.jpg 1024w, https://spotlight.it-notes.ru/wp-content/uploads/2019/11/7da1b5ebcca27699a04c929187a9b9d3-300x169.jpg 300w, https://spotlight.it-notes.ru/wp-content/uploads/2019/11/7da1b5ebcca27699a04c929187a9b9d3-768x432.jpg 768w, https://spotlight.it-notes.ru/wp-content/uploads/2019/11/7da1b5ebcca27699a04c929187a9b9d3.jpg 1920w\" height=\"576\" src=\"data:image/svg+xml,%3Csvg%20xmlns=%22http://www.w3.org/2000/svg%22%20viewBox=%220%200%201024%20576%22%3E%3C/svg%3E\" width=\"1024\"/>\n",
      "5\n"
     ]
    }
   ],
   "source": [
    "import urllib\n",
    "import requests\n",
    "from bs4 import BeautifulSoup\n",
    "#page_URL = \"https://spotlight.it-notes.ru/images/2033e0f072434b99aa5c01b6bc826148\"\n",
    "page_URL = \"https://spotlight.it-notes.ru/\"\n",
    "page_webcode = urllib.request.urlopen(page_URL).read()\n",
    "soup = BeautifulSoup(page_webcode, 'html.parser')\n",
    "\n",
    "\n",
    "#print(soup.prettify())\n",
    "fuzzy = []\n",
    "fuzzy = soup.findAll('img', attrs={'srcset':''})\n",
    "#images = soup.findAll('a',class_='')\n",
    "#print(fuzzy[0])\n",
    "#print(fuzzy[0].get('alt'))\n",
    "#image_code = [fuzz.get('alt') for fuzz in fuzzy]\n",
    "print(((fuzzy[4])))\n",
    "#print(((fuzzy[1])))\n",
    "print(len(fuzzy))"
   ]
  },
  {
   "cell_type": "code",
   "execution_count": 92,
   "metadata": {},
   "outputs": [
    {
     "name": "stdout",
     "output_type": "stream",
     "text": [
      "['<img alt=\"7da1b5ebcca27699a04c929187a9b9d3\" class=\"lazyload thumbnail wp-post-image\" data-sizes=\"(max-width: 1024px) 100vw, 1024px\" data-src=\"https://spotlight.it-notes.ru/wp-content/uploads/2019/11/7da1b5ebcca27699a04c929187a9b9d3-1024x576.jpg\" data-srcset=\"https://spotlight.it-notes.ru/wp-content/uploads/2019/11/7da1b5ebcca27699a04c929187a9b9d3-1024x576.jpg 1024w, https://spotlight.it-notes.ru/wp-content/uploads/2019/11/7da1b5ebcca27699a04c929187a9b9d3-300x169.jpg 300w, https://spotlight.it-notes.ru/wp-content/uploads/2019/11/7da1b5ebcca27699a04c929187a9b9d3-768x432.jpg 768w, https://spotlight.it-notes.ru/wp-content/uploads/2019/11/7da1b5ebcca27699a04c929187a9b9d3.jpg 1920w\" height=\"576\" src=\"data:image/svg+xml,%3Csvg%20xmlns=%22http://www.w3.org/2000/svg%22%20viewBox=%220%200%201024%20576%22%3E%3C/svg%3E\" width=\"1024\"/>']\n"
     ]
    },
    {
     "ename": "IndexError",
     "evalue": "list index out of range",
     "output_type": "error",
     "traceback": [
      "\u001b[1;31m---------------------------------------------------------------------------\u001b[0m",
      "\u001b[1;31mIndexError\u001b[0m                                Traceback (most recent call last)",
      "\u001b[1;32m<ipython-input-92-bfa307b014bf>\u001b[0m in \u001b[0;36m<module>\u001b[1;34m\u001b[0m\n\u001b[0;32m      6\u001b[0m \u001b[0ms1\u001b[0m \u001b[1;33m=\u001b[0m \u001b[0mtext\u001b[0m\u001b[1;33m.\u001b[0m\u001b[0msplit\u001b[0m\u001b[1;33m(\u001b[0m\u001b[1;34m'1536w, '\u001b[0m\u001b[1;33m)\u001b[0m\u001b[1;33m\u001b[0m\u001b[1;33m\u001b[0m\u001b[0m\n\u001b[0;32m      7\u001b[0m \u001b[0mprint\u001b[0m\u001b[1;33m(\u001b[0m\u001b[1;33m(\u001b[0m\u001b[0ms1\u001b[0m\u001b[1;33m)\u001b[0m\u001b[1;33m)\u001b[0m\u001b[1;33m\u001b[0m\u001b[1;33m\u001b[0m\u001b[0m\n\u001b[1;32m----> 8\u001b[1;33m \u001b[0ms2\u001b[0m \u001b[1;33m=\u001b[0m \u001b[0ms1\u001b[0m\u001b[1;33m[\u001b[0m\u001b[1;36m1\u001b[0m\u001b[1;33m]\u001b[0m\u001b[1;33m.\u001b[0m\u001b[0msplit\u001b[0m\u001b[1;33m(\u001b[0m\u001b[1;34m' 1920w'\u001b[0m\u001b[1;33m)\u001b[0m\u001b[1;33m\u001b[0m\u001b[1;33m\u001b[0m\u001b[0m\n\u001b[0m\u001b[0;32m      9\u001b[0m \u001b[0mprint\u001b[0m\u001b[1;33m(\u001b[0m\u001b[0ms2\u001b[0m\u001b[1;33m)\u001b[0m\u001b[1;33m\u001b[0m\u001b[1;33m\u001b[0m\u001b[0m\n\u001b[0;32m     10\u001b[0m \u001b[1;31m#print(a.group(0))\u001b[0m\u001b[1;33m\u001b[0m\u001b[1;33m\u001b[0m\u001b[1;33m\u001b[0m\u001b[0m\n",
      "\u001b[1;31mIndexError\u001b[0m: list index out of range"
     ]
    }
   ],
   "source": [
    "#print(images[0].get('srcset'))\n",
    "import re\n",
    "text = str(fuzzy[4])\n",
    "#print(re.search('1536w, (.+?) 1920', text).group(1))\n",
    "#text.split('1536w, ')[1].split(' 1920w')[0]\n",
    "s1 = text.split('1536w, ')\n",
    "print((s1))\n",
    "s2 = s1[1].split(' 1920w')\n",
    "print(s2)\n",
    "#print(a.group(0))\n",
    "#if a:\n",
    "#    print('hhhh')\n",
    "#    link_found = a.group(1)\n",
    "#print(a)\n",
    "#print(link_found)"
   ]
  },
  {
   "cell_type": "code",
   "execution_count": 98,
   "metadata": {},
   "outputs": [
    {
     "name": "stdout",
     "output_type": "stream",
     "text": [
      "https://spotlight.it-notes.ru/wp-content/uploads/2019/11/7da1b5ebcca27699a04c929187a9b9d3.jpg\n"
     ]
    }
   ],
   "source": [
    "text = str(fuzzy[4])\n",
    "link = str(fuzzy[4]).split()[(fuzzy[4].split().index('1920w\"'))-1] \n",
    "print(link)"
   ]
  },
  {
   "cell_type": "code",
   "execution_count": 95,
   "metadata": {},
   "outputs": [
    {
     "name": "stdout",
     "output_type": "stream",
     "text": [
      "aefg\n"
     ]
    }
   ],
   "source": [
    "string = 'abcd aefg'\n",
    "print(string.split('d ')[1])"
   ]
  },
  {
   "cell_type": "code",
   "execution_count": 71,
   "metadata": {},
   "outputs": [
    {
     "name": "stdout",
     "output_type": "stream",
     "text": [
      "['<img', 'alt=\"7a9bbfaf0bfeb7a1b99ad8ad3af0592e\"', 'class=\"lazyload', 'thumbnail', 'wp-post-image\"', 'data-sizes=\"(max-width:', '1024px)', '100vw,', '1024px\"', 'data-src=\"https://spotlight.it-notes.ru/wp-content/uploads/2019/11/7a9bbfaf0bfeb7a1b99ad8ad3af0592e-1024x576.jpg\"', 'data-srcset=\"https://spotlight.it-notes.ru/wp-content/uploads/2019/11/7a9bbfaf0bfeb7a1b99ad8ad3af0592e-1024x576.jpg', '1024w,', 'https://spotlight.it-notes.ru/wp-content/uploads/2019/11/7a9bbfaf0bfeb7a1b99ad8ad3af0592e-300x169.jpg', '300w,', 'https://spotlight.it-notes.ru/wp-content/uploads/2019/11/7a9bbfaf0bfeb7a1b99ad8ad3af0592e-768x432.jpg', '768w,', 'https://spotlight.it-notes.ru/wp-content/uploads/2019/11/7a9bbfaf0bfeb7a1b99ad8ad3af0592e-1536x864.jpg', '1536w,', 'https://spotlight.it-notes.ru/wp-content/uploads/2019/11/7a9bbfaf0bfeb7a1b99ad8ad3af0592e.jpg', '1920w\"', 'height=\"576\"', 'src=\"data:image/svg+xml,%3Csvg%20xmlns=%22http://www.w3.org/2000/svg%22%20viewBox=%220%200%201024%20576%22%3E%3C/svg%3E\"', 'width=\"1024\"/>']\n",
      "['<img', 'alt=\"7da1b5ebcca27699a04c929187a9b9d3\"', 'class=\"lazyload', 'thumbnail', 'wp-post-image\"', 'data-sizes=\"(max-width:', '1024px)', '100vw,', '1024px\"', 'data-src=\"https://spotlight.it-notes.ru/wp-content/uploads/2019/11/7da1b5ebcca27699a04c929187a9b9d3-1024x576.jpg\"', 'data-srcset=\"https://spotlight.it-notes.ru/wp-content/uploads/2019/11/7da1b5ebcca27699a04c929187a9b9d3-1024x576.jpg', '1024w,', 'https://spotlight.it-notes.ru/wp-content/uploads/2019/11/7da1b5ebcca27699a04c929187a9b9d3-300x169.jpg', '300w,', 'https://spotlight.it-notes.ru/wp-content/uploads/2019/11/7da1b5ebcca27699a04c929187a9b9d3-768x432.jpg', '768w,', 'https://spotlight.it-notes.ru/wp-content/uploads/2019/11/7da1b5ebcca27699a04c929187a9b9d3.jpg', '1920w\"', 'height=\"576\"', 'src=\"data:image/svg+xml,%3Csvg%20xmlns=%22http://www.w3.org/2000/svg%22%20viewBox=%220%200%201024%20576%22%3E%3C/svg%3E\"', 'width=\"1024\"/>']\n",
      "23\n",
      "21\n"
     ]
    }
   ],
   "source": [
    "split_try = str(fuzzy[4]).split()\n",
    "#print(str(fuzzy[3]).split())\n",
    "#print(str(fuzzy[4]).split())\n",
    "print(len(str(fuzzy[3]).split()))\n",
    "print(len(str(fuzzy[4]).split()))\n",
    "\n",
    "for "
   ]
  },
  {
   "cell_type": "code",
   "execution_count": 73,
   "metadata": {},
   "outputs": [
    {
     "ename": "TypeError",
     "evalue": "'ResultSet' object is not callable",
     "output_type": "error",
     "traceback": [
      "\u001b[1;31m---------------------------------------------------------------------------\u001b[0m",
      "\u001b[1;31mTypeError\u001b[0m                                 Traceback (most recent call last)",
      "\u001b[1;32m<ipython-input-73-594f035e5b11>\u001b[0m in \u001b[0;36m<module>\u001b[1;34m\u001b[0m\n\u001b[1;32m----> 1\u001b[1;33m \u001b[0mlen\u001b[0m\u001b[1;33m(\u001b[0m\u001b[0mstr\u001b[0m\u001b[1;33m(\u001b[0m\u001b[0mfuzzy\u001b[0m\u001b[1;33m[\u001b[0m\u001b[1;36m0\u001b[0m\u001b[1;33m]\u001b[0m\u001b[1;33m)\u001b[0m\u001b[1;33m)\u001b[0m\u001b[1;33m-\u001b[0m\u001b[0mlen\u001b[0m\u001b[1;33m(\u001b[0m\u001b[0mstr\u001b[0m\u001b[1;33m(\u001b[0m\u001b[0mfuzzy\u001b[0m\u001b[1;33m(\u001b[0m\u001b[1;36m4\u001b[0m\u001b[1;33m)\u001b[0m\u001b[1;33m)\u001b[0m\u001b[1;33m)\u001b[0m\u001b[1;33m\u001b[0m\u001b[1;33m\u001b[0m\u001b[0m\n\u001b[0m",
      "\u001b[1;31mTypeError\u001b[0m: 'ResultSet' object is not callable"
     ]
    }
   ],
   "source": [
    "#len(str(fuzzy[0]))-len(str(fuzzy(4)))"
   ]
  },
  {
   "cell_type": "code",
   "execution_count": null,
   "metadata": {},
   "outputs": [],
   "source": []
  },
  {
   "cell_type": "code",
   "execution_count": null,
   "metadata": {},
   "outputs": [],
   "source": []
  },
  {
   "cell_type": "code",
   "execution_count": null,
   "metadata": {},
   "outputs": [],
   "source": [
    "import urllib\n",
    "import requests\n",
    "from bs4 import BeautifulSoup\n",
    "page_ = \"https://spotlight.it-notes.ru/page/{}\"\n",
    "image_codes = []\n",
    "image_links = []\n",
    "\n",
    "page_url = page_.format(i+1)\n",
    "page_webcode = urllib.request.urlopen(page_url).read()\n",
    "soup = BeautifulSoup(page_webcode, 'html.parser')\n",
    "fuzzy = (soup.findAll('img', attrs={'srcset':''}))\n",
    "image_links.extend([(str(fuzz)).split()[((str(fuzz)).split().index('1920w\"'))-1] for fuzz in fuzzy])\n",
    "image_codes.extend(([fuzz.get('alt') for fuzz in fuzzy]))\n",
    "urllib.request.urlopen(page_url).close()"
   ]
  },
  {
   "cell_type": "code",
   "execution_count": 122,
   "metadata": {},
   "outputs": [
    {
     "name": "stdout",
     "output_type": "stream",
     "text": [
      "['jDOQ0tZ', 'ZJucERc', 'TNYnS0h', 'JZY7INj', 'UAF2QXu', 'wrUfOVk', 'idMyIjV', 'QUTHcrW', 'Szp5yYm', 'LZ9Zzpf', '2kca5Rj', 'b8Du2Oq', 'Ujpt3B3', 'GRF7gvU', 'xsH7751', 'MCjmfiK', 'jYc5RIG', 'ZGvX5Ob', 'OBjxR6E', 'Ptexyiv', 'hvwRn2V', 'GakvoVT', 'bn0lqId', 'm7zm2n1', 'pIlHQxF', '5rKGHJ2', 'rlXec9W', 'i7Zx4mX', 'Mfq32m0', 'yMahTKB', 'YA6rAXL', '1vPjZos', '8vq9oI1', 'p7PlirM', '5cGbcMF', 'CR8ji9a', 'RvdrczD', 'IqJXX5n', 'mcoNifl', '0aXZGjx', 'azpyotu', 'ra25hJi', 'MnuzVK5', 'FZImdex', 'JsYKkZB', '6vb0QQ5', '47t841D', 'CuAtZ7P', 'HP8dwqY', 'q6piGqY', '1yETTgX', 'OFhtv4r', 'sAsGwY6', 'lwjjCDh', 'iQ1kdcl', 'GvOUeyA', 'AZTQDoL', 'uJLvehB', 'aruWytt', 'HrmTUFg', '1ioqWLq', 'Yl4ltnh', 'Jfsg5tf', '6b2GbNT', 'gBm5vkL', 'O56e5hj', 'qcXUg3J', 'Bql4jWB', 'B7MAHtI', '7EJX5gB', 'GYAU2Tv', 'oO753xr', 'qGJr7Ka', 'FXJSbcb', 'AaZkOIH', 'mH2h7zu', 'wMZLkC3', 'Ji9Gm1K', '1Q0IeFO', 'uQ6oFOm', 'pPKlsg6', 'aUhTpEz', 'zLP4fib', 'qiip0ov', '72XtSQn', 'ZuAyt8G', 'adjiXDn', 'STmhzDZ', 'GAgDh9z', 'tEWN4Pu', 'TZlPQJ5', 'gw86pYC', 'DEs0Z89', '4sq5REv', 'bH0bcMS', 'zehQ73U', 'ia6Vz0t', 'yyHTLOY', 'mBDlbL1', '6T6Bg21', 'qaI7c4Q', 'EHmPBXs', 'JWF7CcG', '88bKRBr', 'qyY99C8', 'kvm7zlo', 'dOdzjQz', '4iJ2hPX', '443SqAZ', '4JjmE8q', 'AoMUd1t', '8VWy0jh', 'ChpCsvA', 'YRphNRt', 'AzQOo4o', 't6PW0Jt', 'HybBmi3', 'FMjF3UH', 'riOLFJl', 'Z2B8BHa', 'qIpOs1j', 'tufbwRP', 'jnDT9R2', 's5BcEDE', 'YEC13Ay', 'GmUOxmv', 'eeNqUeZ', 'Z7MgV5l', 'Da1pyie', 'VwxhnT1', 't1hKCth', 'bIJ5VtV', 'IdeYvI2', '4XOXHV7', 'JfRzeoU', 'vfbt4ID', 'jjOXUCo', 'wMuqyCW', 'B6xWf1j', 'OwkEBQR', 'OrDvvAW', 'ajvVAEy', 'e9bmKMA', 'ORGcZK0', 'zxkmgsR', '7tnT4aq', '9ORYWd7', 'WHk6v9H', 'Rh2SAF9', '0OdEp2L', 'bUyKHJ6', 'VeinQiS', 'dcjozUW', 'sVFCFsL', 'smQiZrN', 'uo4eQR9', 'AJ98ORd', 'NBxu8Ny', 'uxwiLDl', 'ToMlhDJ', 'prZ0lBE', '8e0ioh2', 'mkcPIPW', 'fxqkKET', 'GpT2RJH', 'Mi3BJuC', 'NZXRc8M', 'ZPqT9Dp', 'SBOVJyd', 'vv4svMv', 'ke6uXHw', 'A7jlqL7']\n"
     ]
    }
   ],
   "source": [
    "import urllib\n",
    "import requests\n",
    "from bs4 import BeautifulSoup\n",
    "page_url = 'https://imgur.com/a/3OqBs'\n",
    "page_webcode = urllib.request.urlopen(page_url).read()\n",
    "soup = BeautifulSoup(page_webcode, 'html.parser')\n",
    "#print(soup)\n",
    "fuzzy = (soup.findAll('div', attrs={' src':''}))\n",
    "#print(str(fuzzy))\n",
    "codes = [str(fuzz.get('id')) for fuzz in fuzzy]\n",
    "act_codes = [c for c in codes if len(c)==7]\n",
    "\n",
    "print(act_codes)"
   ]
  },
  {
   "cell_type": "code",
   "execution_count": 123,
   "metadata": {},
   "outputs": [
    {
     "name": "stdout",
     "output_type": "stream",
     "text": [
      "0\n",
      "1\n",
      "2\n",
      "3\n",
      "4\n",
      "5\n",
      "6\n",
      "7\n",
      "8\n",
      "9\n",
      "10\n",
      "11\n",
      "12\n",
      "13\n",
      "14\n",
      "15\n",
      "16\n",
      "17\n",
      "18\n",
      "19\n",
      "20\n",
      "21\n",
      "22\n",
      "23\n",
      "24\n",
      "25\n",
      "26\n",
      "27\n",
      "28\n",
      "29\n",
      "30\n",
      "31\n",
      "32\n",
      "33\n",
      "34\n",
      "35\n",
      "36\n",
      "37\n",
      "38\n",
      "39\n",
      "40\n",
      "41\n",
      "42\n",
      "43\n",
      "44\n",
      "45\n",
      "46\n",
      "47\n",
      "48\n",
      "49\n",
      "50\n",
      "51\n",
      "52\n",
      "53\n",
      "54\n",
      "55\n",
      "56\n",
      "57\n",
      "58\n",
      "59\n",
      "60\n",
      "61\n",
      "62\n",
      "63\n",
      "64\n",
      "65\n",
      "66\n",
      "67\n",
      "68\n",
      "69\n",
      "70\n",
      "71\n",
      "72\n",
      "73\n",
      "74\n",
      "75\n",
      "76\n",
      "77\n",
      "78\n",
      "79\n",
      "80\n",
      "81\n",
      "82\n",
      "83\n",
      "84\n",
      "85\n",
      "86\n",
      "87\n",
      "88\n",
      "89\n",
      "90\n",
      "91\n",
      "92\n",
      "93\n",
      "94\n",
      "95\n",
      "96\n",
      "97\n",
      "98\n",
      "99\n",
      "100\n",
      "101\n",
      "102\n",
      "103\n",
      "104\n",
      "105\n",
      "106\n",
      "107\n",
      "108\n",
      "109\n",
      "110\n",
      "111\n",
      "112\n",
      "113\n",
      "114\n",
      "115\n",
      "116\n",
      "117\n",
      "118\n",
      "119\n",
      "120\n",
      "121\n",
      "122\n",
      "123\n",
      "124\n",
      "125\n",
      "126\n",
      "127\n",
      "128\n",
      "129\n",
      "130\n",
      "131\n",
      "132\n",
      "133\n",
      "134\n",
      "135\n",
      "136\n",
      "137\n",
      "138\n",
      "139\n",
      "140\n",
      "141\n",
      "142\n",
      "143\n",
      "144\n",
      "145\n",
      "146\n",
      "147\n",
      "148\n",
      "149\n",
      "150\n",
      "151\n",
      "152\n",
      "153\n",
      "154\n",
      "155\n",
      "156\n",
      "157\n",
      "158\n",
      "159\n",
      "160\n",
      "161\n",
      "162\n",
      "163\n",
      "164\n",
      "165\n",
      "166\n",
      "167\n",
      "168\n",
      "169\n",
      "170\n",
      "171\n",
      "Done\n"
     ]
    }
   ],
   "source": [
    "import os\n",
    "j = 0\n",
    "while(j<len(act_codes)):\n",
    "    temp_ = act_codes[j]+'.jpg'\n",
    "    filename = os.path.join('D:/Try_Imgur', temp_)\n",
    "    url_to_go = 'https://i.imgur.com/'+act_codes[j]+'.jpg'\n",
    "    print(j)\n",
    "    if (os.path.exists(filename)):\n",
    "        pass\n",
    "    else:\n",
    "        urllib.request.urlretrieve(url_to_go, filename)\n",
    "    #urllib.request.urlretrieve(url_to_go, filename)\n",
    "    j+= 1\n",
    "print('Done')"
   ]
  },
  {
   "cell_type": "code",
   "execution_count": null,
   "metadata": {},
   "outputs": [],
   "source": []
  }
 ],
 "metadata": {
  "kernelspec": {
   "display_name": "Python 3",
   "language": "python",
   "name": "python3"
  },
  "language_info": {
   "codemirror_mode": {
    "name": "ipython",
    "version": 3
   },
   "file_extension": ".py",
   "mimetype": "text/x-python",
   "name": "python",
   "nbconvert_exporter": "python",
   "pygments_lexer": "ipython3",
   "version": "3.7.1"
  }
 },
 "nbformat": 4,
 "nbformat_minor": 2
}
