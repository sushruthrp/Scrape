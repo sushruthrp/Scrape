{
 "cells": [
  {
   "cell_type": "code",
   "execution_count": 4,
   "metadata": {},
   "outputs": [
    {
     "name": "stdout",
     "output_type": "stream",
     "text": [
      "Enter the URL of board: http://boards.4chan.org/hr/thread/3393622\n",
      "Can't create a folder at path: E:/4chan/hr/spaceman_3393622/\n",
      "0\n",
      "Finished\n"
     ]
    }
   ],
   "source": [
    "import urllib\n",
    "#import requests\n",
    "from bs4 import BeautifulSoup\n",
    "from urllib.request import urlopen, Request\n",
    "import os\n",
    "\n",
    "page_url = input('Enter the URL of board: ')\n",
    "try:\n",
    "    req = Request(url = page_url, headers={'User-Agent': 'Mozilla/5.0'})\n",
    "except:\n",
    "    print(\"Can't get to the url\")\n",
    "\n",
    "page_webcode = urlopen(req).read()\n",
    "soup = BeautifulSoup(page_webcode, 'html.parser')\n",
    "\n",
    "def getFileLinks (soup):\n",
    "    fuzzy = (soup.findAll('a', {'class':'fileThumb','href': True}))\n",
    "    links = [fuzz.get('href') for fuzz in fuzzy]\n",
    "    return links\n",
    "\n",
    "def getFileNames (soup):\n",
    "    name_ = soup.findAll('div',{'class':'fileText'})\n",
    "    names_list_ = [(name_[i].find('a',href=True)) for i in\\\n",
    "                  range(0,len(name_))]\n",
    "    names_list = [name.text for name in names_list_]\n",
    "    return names_list\n",
    "\n",
    "def getBoardName (page_url):\n",
    "    board = page_url.split('org/')[1].split('/thread')[0]\n",
    "    return board\n",
    "\n",
    "def getPostTitle (soup):\n",
    "    name_ = soup.find('span', {'class':'name'})\n",
    "    name = str(name_).split('\"name\">')[1].split('</span>')[0]\n",
    "    return name\n",
    "\n",
    "def getPostNum (soup):\n",
    "    number_ = soup.find('span', {'class':'postNum desktop' })\n",
    "    number = str(number_).split('#p')[1].split('\"')[0]\n",
    "    return number\n",
    "\n",
    "home = 'D:/'\n",
    "chan = page_url.split('boards.')[1].split('.org')[0]\n",
    "if (chan=='4channel'):\n",
    "    chan = '4chan'\n",
    "board = getBoardName(page_url)\n",
    "post_title = getPostTitle(soup)\n",
    "post_number = getPostNum(soup)\n",
    "links = getFileLinks(soup)\n",
    "\n",
    "post_path = home+chan+'/'+board+'/'+post_title+'_'+post_number+'/'\n",
    "\n",
    "try:\n",
    "    os.makedirs(post_path)\n",
    "except OSError:\n",
    "    print(\"Can't create a folder at path:\", post_path)\n",
    "\n",
    "j = 0\n",
    "file_names = getFileNames(soup)\n",
    "while (j < len(links)):\n",
    "    filename = os.path.join(post_path, file_names[j])\n",
    "    urllib.request.urlretrieve('https:'+links[j], filename)\n",
    "    print(j)\n",
    "    j+=1\n",
    "    \n",
    "print('Finished')"
   ]
  }
 ],
 "metadata": {
  "kernelspec": {
   "display_name": "Python 3",
   "language": "python",
   "name": "python3"
  },
  "language_info": {
   "codemirror_mode": {
    "name": "ipython",
    "version": 3
   },
   "file_extension": ".py",
   "mimetype": "text/x-python",
   "name": "python",
   "nbconvert_exporter": "python",
   "pygments_lexer": "ipython3",
   "version": "3.7.1"
  }
 },
 "nbformat": 4,
 "nbformat_minor": 2
}
