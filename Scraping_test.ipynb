{
 "cells": [
  {
   "cell_type": "code",
   "execution_count": 18,
   "metadata": {},
   "outputs": [
    {
     "name": "stdout",
     "output_type": "stream",
     "text": [
      "[<img alt=\"08f88516d39e024b9ce4ae72131e4deb\" class=\"thumbnail wp-post-image\" height=\"576\" sizes=\"(max-width: 1024px) 100vw, 1024px\" src=\"https://spotlight.it-notes.ru/wp-content/uploads/2019/11/08f88516d39e024b9ce4ae72131e4deb-1024x576.jpg\" srcset=\"https://spotlight.it-notes.ru/wp-content/uploads/2019/11/08f88516d39e024b9ce4ae72131e4deb-1024x576.jpg 1024w, https://spotlight.it-notes.ru/wp-content/uploads/2019/11/08f88516d39e024b9ce4ae72131e4deb-300x169.jpg 300w, https://spotlight.it-notes.ru/wp-content/uploads/2019/11/08f88516d39e024b9ce4ae72131e4deb-768x432.jpg 768w, https://spotlight.it-notes.ru/wp-content/uploads/2019/11/08f88516d39e024b9ce4ae72131e4deb-1536x864.jpg 1536w, https://spotlight.it-notes.ru/wp-content/uploads/2019/11/08f88516d39e024b9ce4ae72131e4deb.jpg 1920w\" width=\"1024\"/>, <img alt=\"08f88516d39e024b9ce4ae72131e4deb\" class=\"lazyload thumbnail wp-post-image\" data-sizes=\"(max-width: 1024px) 100vw, 1024px\" data-src=\"https://spotlight.it-notes.ru/wp-content/uploads/2019/11/08f88516d39e024b9ce4ae72131e4deb-1024x576.jpg\" data-srcset=\"https://spotlight.it-notes.ru/wp-content/uploads/2019/11/08f88516d39e024b9ce4ae72131e4deb-1024x576.jpg 1024w, https://spotlight.it-notes.ru/wp-content/uploads/2019/11/08f88516d39e024b9ce4ae72131e4deb-300x169.jpg 300w, https://spotlight.it-notes.ru/wp-content/uploads/2019/11/08f88516d39e024b9ce4ae72131e4deb-768x432.jpg 768w, https://spotlight.it-notes.ru/wp-content/uploads/2019/11/08f88516d39e024b9ce4ae72131e4deb-1536x864.jpg 1536w, https://spotlight.it-notes.ru/wp-content/uploads/2019/11/08f88516d39e024b9ce4ae72131e4deb.jpg 1920w\" height=\"576\" src=\"data:image/svg+xml,%3Csvg%20xmlns=%22http://www.w3.org/2000/svg%22%20viewBox=%220%200%201024%20576%22%3E%3C/svg%3E\" width=\"1024\"/>, <img alt=\"139116661666c53e9835099cee83d46d\" class=\"thumbnail wp-post-image\" height=\"576\" sizes=\"(max-width: 1024px) 100vw, 1024px\" src=\"https://spotlight.it-notes.ru/wp-content/uploads/2019/11/139116661666c53e9835099cee83d46d-1024x576.jpg\" srcset=\"https://spotlight.it-notes.ru/wp-content/uploads/2019/11/139116661666c53e9835099cee83d46d-1024x576.jpg 1024w, https://spotlight.it-notes.ru/wp-content/uploads/2019/11/139116661666c53e9835099cee83d46d-300x169.jpg 300w, https://spotlight.it-notes.ru/wp-content/uploads/2019/11/139116661666c53e9835099cee83d46d-768x432.jpg 768w, https://spotlight.it-notes.ru/wp-content/uploads/2019/11/139116661666c53e9835099cee83d46d-1536x864.jpg 1536w, https://spotlight.it-notes.ru/wp-content/uploads/2019/11/139116661666c53e9835099cee83d46d.jpg 1920w\" width=\"1024\"/>, <img alt=\"139116661666c53e9835099cee83d46d\" class=\"lazyload thumbnail wp-post-image\" data-sizes=\"(max-width: 1024px) 100vw, 1024px\" data-src=\"https://spotlight.it-notes.ru/wp-content/uploads/2019/11/139116661666c53e9835099cee83d46d-1024x576.jpg\" data-srcset=\"https://spotlight.it-notes.ru/wp-content/uploads/2019/11/139116661666c53e9835099cee83d46d-1024x576.jpg 1024w, https://spotlight.it-notes.ru/wp-content/uploads/2019/11/139116661666c53e9835099cee83d46d-300x169.jpg 300w, https://spotlight.it-notes.ru/wp-content/uploads/2019/11/139116661666c53e9835099cee83d46d-768x432.jpg 768w, https://spotlight.it-notes.ru/wp-content/uploads/2019/11/139116661666c53e9835099cee83d46d-1536x864.jpg 1536w, https://spotlight.it-notes.ru/wp-content/uploads/2019/11/139116661666c53e9835099cee83d46d.jpg 1920w\" height=\"576\" src=\"data:image/svg+xml,%3Csvg%20xmlns=%22http://www.w3.org/2000/svg%22%20viewBox=%220%200%201024%20576%22%3E%3C/svg%3E\" width=\"1024\"/>, <img alt=\"6b66f9b3e565fc6a5cce76133043af36\" class=\"thumbnail wp-post-image\" height=\"576\" sizes=\"(max-width: 1024px) 100vw, 1024px\" src=\"https://spotlight.it-notes.ru/wp-content/uploads/2019/11/6b66f9b3e565fc6a5cce76133043af36-1024x576.jpg\" srcset=\"https://spotlight.it-notes.ru/wp-content/uploads/2019/11/6b66f9b3e565fc6a5cce76133043af36-1024x576.jpg 1024w, https://spotlight.it-notes.ru/wp-content/uploads/2019/11/6b66f9b3e565fc6a5cce76133043af36-300x169.jpg 300w, https://spotlight.it-notes.ru/wp-content/uploads/2019/11/6b66f9b3e565fc6a5cce76133043af36-768x432.jpg 768w, https://spotlight.it-notes.ru/wp-content/uploads/2019/11/6b66f9b3e565fc6a5cce76133043af36-1536x864.jpg 1536w, https://spotlight.it-notes.ru/wp-content/uploads/2019/11/6b66f9b3e565fc6a5cce76133043af36.jpg 1920w\" width=\"1024\"/>, <img alt=\"6b66f9b3e565fc6a5cce76133043af36\" class=\"lazyload thumbnail wp-post-image\" data-sizes=\"(max-width: 1024px) 100vw, 1024px\" data-src=\"https://spotlight.it-notes.ru/wp-content/uploads/2019/11/6b66f9b3e565fc6a5cce76133043af36-1024x576.jpg\" data-srcset=\"https://spotlight.it-notes.ru/wp-content/uploads/2019/11/6b66f9b3e565fc6a5cce76133043af36-1024x576.jpg 1024w, https://spotlight.it-notes.ru/wp-content/uploads/2019/11/6b66f9b3e565fc6a5cce76133043af36-300x169.jpg 300w, https://spotlight.it-notes.ru/wp-content/uploads/2019/11/6b66f9b3e565fc6a5cce76133043af36-768x432.jpg 768w, https://spotlight.it-notes.ru/wp-content/uploads/2019/11/6b66f9b3e565fc6a5cce76133043af36-1536x864.jpg 1536w, https://spotlight.it-notes.ru/wp-content/uploads/2019/11/6b66f9b3e565fc6a5cce76133043af36.jpg 1920w\" height=\"576\" src=\"data:image/svg+xml,%3Csvg%20xmlns=%22http://www.w3.org/2000/svg%22%20viewBox=%220%200%201024%20576%22%3E%3C/svg%3E\" width=\"1024\"/>, <img alt=\"7a9bbfaf0bfeb7a1b99ad8ad3af0592e\" class=\"thumbnail wp-post-image\" height=\"576\" sizes=\"(max-width: 1024px) 100vw, 1024px\" src=\"https://spotlight.it-notes.ru/wp-content/uploads/2019/11/7a9bbfaf0bfeb7a1b99ad8ad3af0592e-1024x576.jpg\" srcset=\"https://spotlight.it-notes.ru/wp-content/uploads/2019/11/7a9bbfaf0bfeb7a1b99ad8ad3af0592e-1024x576.jpg 1024w, https://spotlight.it-notes.ru/wp-content/uploads/2019/11/7a9bbfaf0bfeb7a1b99ad8ad3af0592e-300x169.jpg 300w, https://spotlight.it-notes.ru/wp-content/uploads/2019/11/7a9bbfaf0bfeb7a1b99ad8ad3af0592e-768x432.jpg 768w, https://spotlight.it-notes.ru/wp-content/uploads/2019/11/7a9bbfaf0bfeb7a1b99ad8ad3af0592e-1536x864.jpg 1536w, https://spotlight.it-notes.ru/wp-content/uploads/2019/11/7a9bbfaf0bfeb7a1b99ad8ad3af0592e.jpg 1920w\" width=\"1024\"/>, <img alt=\"7a9bbfaf0bfeb7a1b99ad8ad3af0592e\" class=\"lazyload thumbnail wp-post-image\" data-sizes=\"(max-width: 1024px) 100vw, 1024px\" data-src=\"https://spotlight.it-notes.ru/wp-content/uploads/2019/11/7a9bbfaf0bfeb7a1b99ad8ad3af0592e-1024x576.jpg\" data-srcset=\"https://spotlight.it-notes.ru/wp-content/uploads/2019/11/7a9bbfaf0bfeb7a1b99ad8ad3af0592e-1024x576.jpg 1024w, https://spotlight.it-notes.ru/wp-content/uploads/2019/11/7a9bbfaf0bfeb7a1b99ad8ad3af0592e-300x169.jpg 300w, https://spotlight.it-notes.ru/wp-content/uploads/2019/11/7a9bbfaf0bfeb7a1b99ad8ad3af0592e-768x432.jpg 768w, https://spotlight.it-notes.ru/wp-content/uploads/2019/11/7a9bbfaf0bfeb7a1b99ad8ad3af0592e-1536x864.jpg 1536w, https://spotlight.it-notes.ru/wp-content/uploads/2019/11/7a9bbfaf0bfeb7a1b99ad8ad3af0592e.jpg 1920w\" height=\"576\" src=\"data:image/svg+xml,%3Csvg%20xmlns=%22http://www.w3.org/2000/svg%22%20viewBox=%220%200%201024%20576%22%3E%3C/svg%3E\" width=\"1024\"/>, <img alt=\"7da1b5ebcca27699a04c929187a9b9d3\" class=\"thumbnail wp-post-image\" height=\"576\" sizes=\"(max-width: 1024px) 100vw, 1024px\" src=\"https://spotlight.it-notes.ru/wp-content/uploads/2019/11/7da1b5ebcca27699a04c929187a9b9d3-1024x576.jpg\" srcset=\"https://spotlight.it-notes.ru/wp-content/uploads/2019/11/7da1b5ebcca27699a04c929187a9b9d3-1024x576.jpg 1024w, https://spotlight.it-notes.ru/wp-content/uploads/2019/11/7da1b5ebcca27699a04c929187a9b9d3-300x169.jpg 300w, https://spotlight.it-notes.ru/wp-content/uploads/2019/11/7da1b5ebcca27699a04c929187a9b9d3-768x432.jpg 768w, https://spotlight.it-notes.ru/wp-content/uploads/2019/11/7da1b5ebcca27699a04c929187a9b9d3.jpg 1920w\" width=\"1024\"/>, <img alt=\"7da1b5ebcca27699a04c929187a9b9d3\" class=\"lazyload thumbnail wp-post-image\" data-sizes=\"(max-width: 1024px) 100vw, 1024px\" data-src=\"https://spotlight.it-notes.ru/wp-content/uploads/2019/11/7da1b5ebcca27699a04c929187a9b9d3-1024x576.jpg\" data-srcset=\"https://spotlight.it-notes.ru/wp-content/uploads/2019/11/7da1b5ebcca27699a04c929187a9b9d3-1024x576.jpg 1024w, https://spotlight.it-notes.ru/wp-content/uploads/2019/11/7da1b5ebcca27699a04c929187a9b9d3-300x169.jpg 300w, https://spotlight.it-notes.ru/wp-content/uploads/2019/11/7da1b5ebcca27699a04c929187a9b9d3-768x432.jpg 768w, https://spotlight.it-notes.ru/wp-content/uploads/2019/11/7da1b5ebcca27699a04c929187a9b9d3.jpg 1920w\" height=\"576\" src=\"data:image/svg+xml,%3Csvg%20xmlns=%22http://www.w3.org/2000/svg%22%20viewBox=%220%200%201024%20576%22%3E%3C/svg%3E\" width=\"1024\"/>]\n"
     ]
    }
   ],
   "source": [
    "#from urllib2.request import urlopen\n",
    "import urllib\n",
    "import requests\n",
    "from bs4 import BeautifulSoup\n",
    "#page_URL = \"https://spotlight.it-notes.ru/images/2033e0f072434b99aa5c01b6bc826148\"\n",
    "page_URL = \"https://spotlight.it-notes.ru/\"\n",
    "page_webcode = urllib.request.urlopen(page_URL).read()\n",
    "soup = BeautifulSoup(page_webcode, 'html.parser')\n",
    "\n",
    "images = []\n",
    "images = soup.findAll('img')#, attrs={'alt':''})\n",
    "print(images)"
   ]
  },
  {
   "cell_type": "code",
   "execution_count": 17,
   "metadata": {},
   "outputs": [
    {
     "data": {
      "text/plain": [
       "0"
      ]
     },
     "execution_count": 17,
     "metadata": {},
     "output_type": "execute_result"
    }
   ],
   "source": [
    "import requests\n",
    "from bs4 import BeautifulSoup\n",
    "r = requests.get('https://imgur.com/a/3OqBs')\n",
    "soup = BeautifulSoup(r.content, 'html.parser')\n",
    "len(soup.find_all('jpg', class_='post-image'))\n"
   ]
  },
  {
   "cell_type": "code",
   "execution_count": null,
   "metadata": {},
   "outputs": [],
   "source": [
    "for image in images:\n",
    "    im_down = requests.get(image.get('src'),allow_redirects=True)\n",
    "    open(str(images.index(image)) + '.jpg', 'wb').write(im_down.content)"
   ]
  },
  {
   "cell_type": "code",
   "execution_count": 65,
   "metadata": {},
   "outputs": [
    {
     "name": "stdout",
     "output_type": "stream",
     "text": [
      "https://spotlight.it-notes.ru/wp-content/uploads/2019/02/2033e0f072434b99aa5c01b6bc826148-1024x576.jpg 1024w, https://spotlight.it-notes.ru/wp-content/uploads/2019/02/2033e0f072434b99aa5c01b6bc826148-300x169.jpg 300w, https://spotlight.it-notes.ru/wp-content/uploads/2019/02/2033e0f072434b99aa5c01b6bc826148-768x432.jpg 768w\n",
      "https://spotlight.it-notes.ru/wp-content/uploads/2019/02/2291621eefe13f0d0f5e0f192b9e835d-576x1024.jpg 576w, https://spotlight.it-notes.ru/wp-content/uploads/2019/02/2291621eefe13f0d0f5e0f192b9e835d-169x300.jpg 169w, https://spotlight.it-notes.ru/wp-content/uploads/2019/02/2291621eefe13f0d0f5e0f192b9e835d-768x1365.jpg 768w, https://spotlight.it-notes.ru/wp-content/uploads/2019/02/2291621eefe13f0d0f5e0f192b9e835d.jpg 1080w\n",
      "https://spotlight.it-notes.ru/wp-content/uploads/2017/08/409c4cb41600f97519eda35ffba1a5ba-300x169.jpg 300w, https://spotlight.it-notes.ru/wp-content/uploads/2017/08/409c4cb41600f97519eda35ffba1a5ba-768x432.jpg 768w, https://spotlight.it-notes.ru/wp-content/uploads/2017/08/409c4cb41600f97519eda35ffba1a5ba-1024x576.jpg 1024w\n",
      "https://spotlight.it-notes.ru/wp-content/uploads/2018/05/2d0de7aa5cdcb69e1e1defdab6a284a8-300x169.jpg 300w, https://spotlight.it-notes.ru/wp-content/uploads/2018/05/2d0de7aa5cdcb69e1e1defdab6a284a8-768x432.jpg 768w, https://spotlight.it-notes.ru/wp-content/uploads/2018/05/2d0de7aa5cdcb69e1e1defdab6a284a8-1024x576.jpg 1024w\n",
      "https://spotlight.it-notes.ru/wp-content/uploads/2017/10/8f6716c97dcabb2b1273a5b3acd51908-300x169.jpg 300w, https://spotlight.it-notes.ru/wp-content/uploads/2017/10/8f6716c97dcabb2b1273a5b3acd51908-768x432.jpg 768w, https://spotlight.it-notes.ru/wp-content/uploads/2017/10/8f6716c97dcabb2b1273a5b3acd51908-1024x576.jpg 1024w\n"
     ]
    }
   ],
   "source": [
    "for image in images:\n",
    "    print(image.get('srcset'))\n",
    "    image = str(image.get('str'))\n",
    "#print(images)"
   ]
  },
  {
   "cell_type": "code",
   "execution_count": 35,
   "metadata": {},
   "outputs": [
    {
     "data": {
      "text/plain": [
       "5430"
      ]
     },
     "execution_count": 35,
     "metadata": {},
     "output_type": "execute_result"
    }
   ],
   "source": [
    "import requests\n",
    "\n",
    "url = 'http://google.com/favicon.ico'\n",
    "r = requests.get(url, allow_redirects=True)\n",
    "open('google.ico', 'wb').write(r.content)"
   ]
  },
  {
   "cell_type": "code",
   "execution_count": null,
   "metadata": {},
   "outputs": [],
   "source": []
  },
  {
   "cell_type": "code",
   "execution_count": null,
   "metadata": {},
   "outputs": [],
   "source": []
  },
  {
   "cell_type": "code",
   "execution_count": null,
   "metadata": {},
   "outputs": [],
   "source": [
    "https://i.imgur.com/5rKGHJ2.jpg"
   ]
  },
  {
   "cell_type": "code",
   "execution_count": null,
   "metadata": {},
   "outputs": [],
   "source": [
    "https://i.imgur.com/jDOQ0tZ.jpg"
   ]
  }
 ],
 "metadata": {
  "kernelspec": {
   "display_name": "Python 3",
   "language": "python",
   "name": "python3"
  },
  "language_info": {
   "codemirror_mode": {
    "name": "ipython",
    "version": 3
   },
   "file_extension": ".py",
   "mimetype": "text/x-python",
   "name": "python",
   "nbconvert_exporter": "python",
   "pygments_lexer": "ipython3",
   "version": "3.7.1"
  }
 },
 "nbformat": 4,
 "nbformat_minor": 2
}
